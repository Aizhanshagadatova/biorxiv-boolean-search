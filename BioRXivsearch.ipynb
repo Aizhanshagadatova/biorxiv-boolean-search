{
 "cells": [
  {
   "cell_type": "markdown",
   "metadata": {},
   "source": [
    "# Biorxiv search template"
   ]
  },
  {
   "cell_type": "markdown",
   "metadata": {},
   "source": [
    "Import datetime package and bio/med-rxiv search functions"
   ]
  },
  {
   "cell_type": "code",
   "execution_count": 1,
   "metadata": {},
   "outputs": [],
   "source": [
    "import datetime\n",
    "from biorxiv_search_boolean import search_several_topics_OR_AND\n",
    "from biorxiv_search_boolean import search_several_topics_AND_OR\n",
    "\n",
    "from biorxiv_search_boolean import save_csv"
   ]
  },
  {
   "cell_type": "markdown",
   "metadata": {},
   "source": [
    "Setup start date and topics for search"
   ]
  },
  {
   "cell_type": "code",
   "execution_count": 2,
   "metadata": {},
   "outputs": [],
   "source": [
    "start_date = datetime.date.today().replace(day=18, month=12, year=2010)\n",
    "topic_1 = ['wearable', 'sensor']\n",
    "topic_2 = ['infection', 'SARS']\n",
    "topic_3 = ['study']"
   ]
  },
  {
   "cell_type": "markdown",
   "metadata": {},
   "source": [
    "Start the search"
   ]
  },
  {
   "cell_type": "code",
   "execution_count": 3,
   "metadata": {
    "scrolled": true
   },
   "outputs": [
    {
     "name": "stdout",
     "output_type": "stream",
     "text": [
      "Fetched 1 records in 2.8 seconds.\n",
      "Found smth for keywords: ['wearable', 'infection', 'study']\n",
      "No results found matching search criteria. ['wearable', 'SARS', 'study']\n",
      "Fetched 26 records in 3.4 seconds.\n",
      "Found smth for keywords: ['sensor', 'infection', 'study']\n",
      "Fetched 2 records in 3.3 seconds.\n",
      "Found smth for keywords: ['sensor', 'SARS', 'study']\n",
      "Before drop duplicates: 29\n",
      "After drop duplicates: 26\n"
     ]
    }
   ],
   "source": [
    "full_df_final = search_several_topics_OR_AND(topics = [topic_1, topic_2, topic_3],\n",
    "                                        start_date = start_date, \n",
    "                                        end_date = datetime.date.today(), \n",
    "                                        journal = 'biorxiv',\n",
    "                                        max_records = 750, \n",
    "                                        max_time = 3000,\n",
    "                                        subjects = [], \n",
    "                                        abstracts=False)"
   ]
  },
  {
   "cell_type": "markdown",
   "metadata": {},
   "source": [
    "Save search results"
   ]
  },
  {
   "cell_type": "code",
   "execution_count": 4,
   "metadata": {},
   "outputs": [
    {
     "data": {
      "text/html": [
       "<div>\n",
       "<style scoped>\n",
       "    .dataframe tbody tr th:only-of-type {\n",
       "        vertical-align: middle;\n",
       "    }\n",
       "\n",
       "    .dataframe tbody tr th {\n",
       "        vertical-align: top;\n",
       "    }\n",
       "\n",
       "    .dataframe thead th {\n",
       "        text-align: right;\n",
       "    }\n",
       "</style>\n",
       "<table border=\"1\" class=\"dataframe\">\n",
       "  <thead>\n",
       "    <tr style=\"text-align: right;\">\n",
       "      <th></th>\n",
       "      <th>title</th>\n",
       "      <th>authors</th>\n",
       "      <th>url</th>\n",
       "      <th>date</th>\n",
       "      <th>kwd</th>\n",
       "    </tr>\n",
       "  </thead>\n",
       "  <tbody>\n",
       "    <tr>\n",
       "      <th>0</th>\n",
       "      <td>Close proximity interactions support transmiss...</td>\n",
       "      <td>[Audrey Duval, Thomas Obadia, Pierre-Yves Boël...</td>\n",
       "      <td>http://www.biorxiv.org/content/10.1101/413500v1</td>\n",
       "      <td>413500v1</td>\n",
       "      <td>(wearable, infection, study)</td>\n",
       "    </tr>\n",
       "    <tr>\n",
       "      <th>1</th>\n",
       "      <td>Ubiquitin ligase RIPLET mediates polyubiquitin...</td>\n",
       "      <td>[Takahisa Kouwaki, Tasuku Nishimura, Guanming ...</td>\n",
       "      <td>http://www.biorxiv.org/content/10.1101/2021.01...</td>\n",
       "      <td>2021-01-25</td>\n",
       "      <td>(sensor, infection, study)</td>\n",
       "    </tr>\n",
       "    <tr>\n",
       "      <th>2</th>\n",
       "      <td>Calcium binding protein Ncs1 is calcineurin-re...</td>\n",
       "      <td>[Eamim Daidrê Squizani, Júlia Catarina Vieira ...</td>\n",
       "      <td>http://www.biorxiv.org/content/10.1101/2020.07...</td>\n",
       "      <td>2020-07-23</td>\n",
       "      <td>(sensor, infection, study)</td>\n",
       "    </tr>\n",
       "    <tr>\n",
       "      <th>3</th>\n",
       "      <td>Bacillus thuringiensis targets the host intest...</td>\n",
       "      <td>[Liting Wan, Jian Lin, Hongwen Du, Alejandra B...</td>\n",
       "      <td>http://www.biorxiv.org/content/10.1101/338236v1</td>\n",
       "      <td>338236v1</td>\n",
       "      <td>(sensor, infection, study)</td>\n",
       "    </tr>\n",
       "    <tr>\n",
       "      <th>4</th>\n",
       "      <td>Inborn errors E778K and G908R in NOD2 gene inc...</td>\n",
       "      <td>[Shamila D. Alipoor, Mehdi Mirsaeidi]</td>\n",
       "      <td>http://www.biorxiv.org/content/10.1101/2020.12...</td>\n",
       "      <td>2020-12-25</td>\n",
       "      <td>(sensor, infection, study)</td>\n",
       "    </tr>\n",
       "  </tbody>\n",
       "</table>\n",
       "</div>"
      ],
      "text/plain": [
       "                                               title  \\\n",
       "0  Close proximity interactions support transmiss...   \n",
       "1  Ubiquitin ligase RIPLET mediates polyubiquitin...   \n",
       "2  Calcium binding protein Ncs1 is calcineurin-re...   \n",
       "3  Bacillus thuringiensis targets the host intest...   \n",
       "4  Inborn errors E778K and G908R in NOD2 gene inc...   \n",
       "\n",
       "                                             authors  \\\n",
       "0  [Audrey Duval, Thomas Obadia, Pierre-Yves Boël...   \n",
       "1  [Takahisa Kouwaki, Tasuku Nishimura, Guanming ...   \n",
       "2  [Eamim Daidrê Squizani, Júlia Catarina Vieira ...   \n",
       "3  [Liting Wan, Jian Lin, Hongwen Du, Alejandra B...   \n",
       "4              [Shamila D. Alipoor, Mehdi Mirsaeidi]   \n",
       "\n",
       "                                                 url        date  \\\n",
       "0    http://www.biorxiv.org/content/10.1101/413500v1    413500v1   \n",
       "1  http://www.biorxiv.org/content/10.1101/2021.01...  2021-01-25   \n",
       "2  http://www.biorxiv.org/content/10.1101/2020.07...  2020-07-23   \n",
       "3    http://www.biorxiv.org/content/10.1101/338236v1    338236v1   \n",
       "4  http://www.biorxiv.org/content/10.1101/2020.12...  2020-12-25   \n",
       "\n",
       "                            kwd  \n",
       "0  (wearable, infection, study)  \n",
       "1    (sensor, infection, study)  \n",
       "2    (sensor, infection, study)  \n",
       "3    (sensor, infection, study)  \n",
       "4    (sensor, infection, study)  "
      ]
     },
     "execution_count": 4,
     "metadata": {},
     "output_type": "execute_result"
    }
   ],
   "source": [
    "full_df_final.head()"
   ]
  },
  {
   "cell_type": "code",
   "execution_count": 5,
   "metadata": {},
   "outputs": [
    {
     "name": "stdout",
     "output_type": "stream",
     "text": [
      "Exporting records as csv to ./Final_search.csv...\n",
      "Export complete.\n"
     ]
    }
   ],
   "source": [
    "save_csv(full_df_final, exportfile='Final_search.csv')"
   ]
  }
 ],
 "metadata": {
  "kernelspec": {
   "display_name": "Python 3",
   "language": "python",
   "name": "python3"
  },
  "language_info": {
   "codemirror_mode": {
    "name": "ipython",
    "version": 3
   },
   "file_extension": ".py",
   "mimetype": "text/x-python",
   "name": "python",
   "nbconvert_exporter": "python",
   "pygments_lexer": "ipython3",
   "version": "3.7.3"
  }
 },
 "nbformat": 4,
 "nbformat_minor": 2
}
